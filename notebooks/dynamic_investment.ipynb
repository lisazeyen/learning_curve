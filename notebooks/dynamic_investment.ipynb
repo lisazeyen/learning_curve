{
 "cells": [
  {
   "cell_type": "markdown",
   "metadata": {},
   "source": [
    "## Endogenous Learning Curves in Multi-Horizon Dynamic Investment Optimisation\n",
    "\n",
    "Consider a long-term multi-year investment problem where **CSP (Concentrated Solar Power)** has a learning curve such that\n",
    "\n",
    "$$LCOE = c_0 \\left(\\frac{x_t}{x_0}\\right)^{-\\gamma} + c_1$$\n",
    "\n",
    "where $c_0$ is cost at start, $c_1$ is material cost and $x_t$ is cumulative\n",
    "capacity in the investment interval $t$. Thus, $x_0$ is the initial cumulative CSP capacity.\n",
    "\n",
    "Additionally, there are **nuclear** and **coal** generators for which there is no potential for reducing their LCOE.\n",
    "\n",
    "We build an optimisation to minimise the cost of supplying a flat demand $d=100$ GW with the given technologies between 2020 and 2050, where a CO$_2$ budget cap is applied.\n",
    "\n",
    "> **Hint:** Problem formulation is to be found further along this notebook.\n",
    "\n",
    "**Task:** Explore different discount rates, learning rates, CO$_2$ budgets. For instance\n",
    "* No learning for CSP and no CO$_2$ budget would result in a coal-reliant system.\n",
    "* A CO$_2$ budget and no learning prefers a system built on nuclear.\n",
    "* A CO$_2$ budget and learning results in a system with CSP.\n",
    "\n",
    "**NB** The learning curve coupling makes the problem non-linear, so you need to install the non-linear interior-point solver ipopt:\n",
    "\n",
    "conda install -c conda-forge ipopt\n",
    "\n",
    "### Licence\n",
    "\n",
    "Copyright 2019 Tom Brown (KIT)\n",
    "\n",
    "This program is free software: you can redistribute it and/or modify it under the terms of the GNU General Public License as published by the Free Software Foundation; either version 3 of the License, or (at your option) any later version.\n",
    "\n",
    "This program is distributed in the hope that it will be useful, but WITHOUT ANY WARRANTY; without even the implied warranty of MERCHANTABILITY or FITNESS FOR A PARTICULAR PURPOSE. See the GNU General Public License for more details."
   ]
  },
  {
   "cell_type": "markdown",
   "metadata": {},
   "source": [
    "***\n",
    "## Imports"
   ]
  },
  {
   "cell_type": "code",
   "execution_count": null,
   "metadata": {},
   "outputs": [],
   "source": [
    "from pyomo.environ import ConcreteModel, Var, Objective, NonNegativeReals, Constraint, Suffix, exp\n",
    "from pyomo.opt import SolverFactory\n",
    "import pandas as pd\n",
    "import matplotlib.pyplot as plt\n",
    "plt.style.use('bmh')\n",
    "%matplotlib inline"
   ]
  },
  {
   "cell_type": "markdown",
   "metadata": {},
   "source": [
    "## Parameters"
   ]
  },
  {
   "cell_type": "code",
   "execution_count": null,
   "metadata": {},
   "outputs": [],
   "source": [
    "techs = [\"coal\",\"nuclear\",\"CSP\"]\n",
    "colors = [\"#707070\",\"#ff9000\",\"#f9d002\"]\n",
    "parameters = pd.DataFrame(columns=techs)\n",
    "parameters.loc[\"current annuity\"] = [15.*8760,65.*8760,150.*8760] # EUR/MW/a\n",
    "parameters.loc[\"potential annuity\"] = [15.*8760,65.*8760,35.*8760] # EUR/MW/a\n",
    "parameters.loc[\"learning parameter\"] = [0.,0.,0.333]\n",
    "parameters.loc[\"marginal cost\"] = [35.,10.,0.] #EUR/MWhel\n",
    "parameters.loc[\"specific emissions\"] = [1.,0.,0.] #tcO2/MWhel\n",
    "parameters.loc[\"lifetime\"] = [40,40,30]  #years\n",
    "parameters.loc[\"existing age\"] = [20,0,0] #years\n",
    "parameters.loc[\"existing capacity\"] = [100,0,0] #GW\n",
    "\n",
    "parameters.loc[\"current LCOE\"] = parameters.loc[\"current annuity\"]/8760 + parameters.loc[\"marginal cost\"]\n",
    "parameters.loc[\"potential LCOE\"] = parameters.loc[\"potential annuity\"]/8760 + parameters.loc[\"marginal cost\"]\n",
    "\n",
    "parameters"
   ]
  },
  {
   "cell_type": "code",
   "execution_count": null,
   "metadata": {},
   "outputs": [],
   "source": [
    "#discount rate\n",
    "rate = 0.05\n",
    "\n",
    "#demand in GW\n",
    "demand = 100.\n",
    "\n",
    "# considered years\n",
    "years = list(range(2020,2070))\n",
    "\n",
    "\n",
    "#scenario = \"no_co2-no_learning\"\n",
    "#scenario = \"co2-0p2-no_learning\"\n",
    "scenario = \"co2-0p2-learning\"\n",
    "\n",
    "\n",
    "if \"no_learning\" in scenario:\n",
    "    parameters.loc[\"learning parameter\"] = 0\n",
    "else:\n",
    "    parameters.at[\"learning parameter\",\"CSP\"] = 0.333\n",
    "\n",
    "    \n",
    "# carbon budget in average tCO2/MWh_el    \n",
    "if \"no_co2\" in scenario:\n",
    "    co2_budget = 2.\n",
    "else:\n",
    "    co2_budget = 0.2"
   ]
  },
  {
   "cell_type": "markdown",
   "metadata": {},
   "source": [
    "## Build Model\n",
    "> **Note:** We use [`pyomo`](https://pyomo.readthedocs.io/en/stable/) for building optimisation problems in python. This is also what `pypsa` uses under the hood."
   ]
  },
  {
   "cell_type": "code",
   "execution_count": null,
   "metadata": {},
   "outputs": [],
   "source": [
    "model = ConcreteModel(\"discounted total costs\")"
   ]
  },
  {
   "cell_type": "markdown",
   "metadata": {},
   "source": [
    "Generator capacity available for tech $s$ in year $a$\n",
    "$$G_{s,a}$$"
   ]
  },
  {
   "cell_type": "code",
   "execution_count": null,
   "metadata": {},
   "outputs": [],
   "source": [
    "model.generators = Var(techs, years, within=NonNegativeReals)"
   ]
  },
  {
   "cell_type": "markdown",
   "metadata": {},
   "source": [
    "Generator dispatch for tech $s$ in year $a$\n",
    "$$g_{s,a}$$"
   ]
  },
  {
   "cell_type": "code",
   "execution_count": null,
   "metadata": {},
   "outputs": [],
   "source": [
    "model.generators_dispatch = Var(techs, years, within=NonNegativeReals)"
   ]
  },
  {
   "cell_type": "markdown",
   "metadata": {},
   "source": [
    "New capacity built for tech $s$ in year $a$ \n",
    "$$Q_{s,a}$$"
   ]
  },
  {
   "cell_type": "code",
   "execution_count": null,
   "metadata": {},
   "outputs": [],
   "source": [
    "model.generators_built = Var(techs, years, within=NonNegativeReals)"
   ]
  },
  {
   "cell_type": "markdown",
   "metadata": {},
   "source": [
    "$$c_{s,a}$$"
   ]
  },
  {
   "cell_type": "code",
   "execution_count": null,
   "metadata": {},
   "outputs": [],
   "source": [
    "model.fixed_costs = Var(techs, years, within=NonNegativeReals)"
   ]
  },
  {
   "cell_type": "markdown",
   "metadata": {},
   "source": [
    "The objective is to minimise the system costs:\n",
    "\n",
    "$$\\min \\quad \\sum_{s\\in S, a\\in A} \\frac{1}{10^6\\cdot (1+r)^{a}} \\left( o_{s,a} \\cdot g_{s,a} \\cdot 8760 + \\sum_{b} c_{s,b} Q_{s,b} \\mathbb{I}(a \\geq b) \\mathbb{I}(a < b+L_s) \\right) $$"
   ]
  },
  {
   "cell_type": "code",
   "execution_count": null,
   "metadata": {},
   "outputs": [],
   "source": [
    "# in billion EUR\n",
    "\n",
    "# annuities from existing generators\n",
    "# in billion (MW to GW *1e3, then devide by 1e9)\n",
    "constant =sum(parameters.at[\"existing capacity\",tech]*parameters.at[\"current annuity\",tech]/1e6/(1+rate)**(year-years[0]) for tech in techs for year in years if year < years[0] + parameters.at[\"lifetime\",tech] - parameters.at[\"existing age\",tech])\n",
    "print(constant)\n",
    "\n",
    "model.objective = Objective(expr=constant +\n",
    "                                 sum(model.generators_built[tech,year]*model.fixed_costs[tech,year]/1e6*sum(1/(1+rate)**(yearb-years[0]) for yearb in years if ((yearb>= year) and (yearb < year + parameters.at[\"lifetime\",tech])))\n",
    "                                     for year in years\n",
    "                                     for tech in techs) + \n",
    "                                 sum(model.generators_dispatch[tech,year]*parameters.at[\"marginal cost\",tech]*8760/1e6/(1+rate)**(year-years[0])\n",
    "                                     for year in years\n",
    "                                     for tech in techs))"
   ]
  },
  {
   "cell_type": "markdown",
   "metadata": {},
   "source": [
    "Add a constraint such that demand is met by generator dispatch:\n",
    "\n",
    "$$\\forall a\\in A: \\quad d = \\sum_{s \\in S} g_{s,a}$$"
   ]
  },
  {
   "cell_type": "code",
   "execution_count": null,
   "metadata": {},
   "outputs": [],
   "source": [
    "def balance_constraint(model, year):\n",
    "    return demand == sum(model.generators_dispatch[tech,year] for tech in techs)\n",
    "model.balance_constraint = Constraint(years, rule=balance_constraint)"
   ]
  },
  {
   "cell_type": "markdown",
   "metadata": {},
   "source": [
    "$$ g_{s,a} \\leq G_{s,a} $$"
   ]
  },
  {
   "cell_type": "code",
   "execution_count": null,
   "metadata": {},
   "outputs": [],
   "source": [
    "def generator_constraint(model, tech, year):\n",
    "    return model.generators_dispatch[tech,year] <= model.generators[tech,year]\n",
    "model.generator_constraint = Constraint(techs, years, rule=generator_constraint)"
   ]
  },
  {
   "cell_type": "markdown",
   "metadata": {},
   "source": [
    "Add a constraint on carbon dioxide emissions:\n",
    "\n",
    "$$\\sum_{s\\in S, a\\in A} G_{s,a} \\cdot e_{t} \\leq \\hat{e} \\cdot |A| \\cdot d$$"
   ]
  },
  {
   "cell_type": "code",
   "execution_count": null,
   "metadata": {},
   "outputs": [],
   "source": [
    "def co2_constraint(model):\n",
    "    return co2_budget*len(years)*demand >= sum(model.generators_dispatch[tech,year]*parameters.at[\"specific emissions\",tech] for tech in techs for year in years)\n",
    "model.co2_constraint = Constraint(rule=co2_constraint)"
   ]
  },
  {
   "cell_type": "code",
   "execution_count": null,
   "metadata": {},
   "outputs": [],
   "source": [
    "def fixed_cost_constraint(model,tech,year):\n",
    "    if parameters.at[\"learning parameter\",tech] == 0:\n",
    "        return model.fixed_costs[tech,year] == parameters.at[\"current annuity\",tech]\n",
    "    else:\n",
    "        return model.fixed_costs[tech,year] == parameters.at[\"potential annuity\",tech] + (parameters.at[\"current annuity\",tech]-parameters.at[\"potential annuity\",tech])*(1+sum(model.generators[tech,yeart] for yeart in years if yeart < year))**(-parameters.at[\"learning parameter\",tech])\n",
    "model.fixed_cost_constraint = Constraint(techs, years, rule=fixed_cost_constraint)"
   ]
  },
  {
   "cell_type": "code",
   "execution_count": null,
   "metadata": {},
   "outputs": [],
   "source": [
    "def build_years(model,tech,year):\n",
    "    if year < years[0] + parameters.at[\"lifetime\",tech] - parameters.at[\"existing age\",tech]:\n",
    "        constant = parameters.at[\"existing capacity\",tech]\n",
    "    else:\n",
    "        constant = 0.\n",
    "    \n",
    "    return model.generators[tech,year] == constant + sum(model.generators_built[tech,yearb] for yearb in years if ((year>= yearb) and (year < yearb + parameters.at[\"lifetime\",tech])))\n",
    "model.build_years = Constraint(techs, years, rule=build_years)"
   ]
  },
  {
   "cell_type": "markdown",
   "metadata": {},
   "source": [
    "> **Hint:** You can print the model formulation with `model.pprint()`"
   ]
  },
  {
   "cell_type": "markdown",
   "metadata": {},
   "source": [
    "## Solve Model"
   ]
  },
  {
   "cell_type": "code",
   "execution_count": null,
   "metadata": {},
   "outputs": [],
   "source": [
    "opt = SolverFactory(\"ipopt\")"
   ]
  },
  {
   "cell_type": "code",
   "execution_count": null,
   "metadata": {},
   "outputs": [],
   "source": [
    "results = opt.solve(model,suffixes=[\"dual\"],keepfiles=False)"
   ]
  },
  {
   "cell_type": "markdown",
   "metadata": {},
   "source": [
    "## Results"
   ]
  },
  {
   "cell_type": "markdown",
   "metadata": {},
   "source": [
    "Optimised cost (in billion euros NPV):"
   ]
  },
  {
   "cell_type": "code",
   "execution_count": null,
   "metadata": {},
   "outputs": [],
   "source": [
    "print(model.objective())"
   ]
  },
  {
   "cell_type": "markdown",
   "metadata": {},
   "source": [
    "The unoptimized cost (where everything is supplied by coal) is:"
   ]
  },
  {
   "cell_type": "code",
   "execution_count": null,
   "metadata": {},
   "outputs": [],
   "source": [
    "print(8760*demand*parameters.at[\"current LCOE\",\"coal\"]*len(years)/1e6)"
   ]
  },
  {
   "cell_type": "code",
   "execution_count": null,
   "metadata": {},
   "outputs": [],
   "source": [
    "dispatch = pd.DataFrame(0.,index=years,columns=techs)\n",
    "for year in years:\n",
    "    for tech in techs:\n",
    "        dispatch.at[year,tech] = model.generators_dispatch[tech,year].value"
   ]
  },
  {
   "cell_type": "code",
   "execution_count": null,
   "metadata": {},
   "outputs": [],
   "source": [
    "fig, ax = plt.subplots()\n",
    "\n",
    "fig.set_size_inches((10,6))\n",
    "\n",
    "dispatch.plot(kind=\"area\",stacked=True,color=colors,ax=ax,linewidth=0)\n",
    "ax.set_xlabel(\"year\")\n",
    "ax.set_ylabel(\"dispatch [GW]\")\n",
    "\n",
    "fig.tight_layout()\n",
    "\n",
    "fig.savefig(\"{}-dispatch.pdf\".format(scenario),transparent=True)"
   ]
  },
  {
   "cell_type": "markdown",
   "metadata": {},
   "source": [
    "Plotting the development of the technology mix of the optimal solution over time:"
   ]
  },
  {
   "cell_type": "code",
   "execution_count": null,
   "metadata": {},
   "outputs": [],
   "source": [
    "capacities = pd.DataFrame(0.,index=years,columns=techs)\n",
    "for year in years:\n",
    "    for tech in techs:\n",
    "        capacities.at[year,tech] = model.generators[tech,year].value"
   ]
  },
  {
   "cell_type": "code",
   "execution_count": null,
   "metadata": {},
   "outputs": [],
   "source": [
    "fig, ax = plt.subplots()\n",
    "\n",
    "fig.set_size_inches((10,6))\n",
    "\n",
    "capacities.plot(kind=\"area\",stacked=True,color=colors,ax=ax,linewidth=0)\n",
    "ax.set_xlabel(\"year\")\n",
    "ax.set_ylabel(\"capacity [GW]\")\n",
    "\n",
    "fig.tight_layout()\n",
    "\n",
    "fig.savefig(\"{}-capacity.pdf\".format(scenario),transparent=True)"
   ]
  },
  {
   "cell_type": "code",
   "execution_count": null,
   "metadata": {},
   "outputs": [],
   "source": [
    "build_years = pd.DataFrame(0.,index=years,columns=techs)\n",
    "for year in years:\n",
    "    for tech in techs:\n",
    "        build_years.at[year,tech] = model.generators_built[tech,year].value"
   ]
  },
  {
   "cell_type": "code",
   "execution_count": null,
   "metadata": {},
   "outputs": [],
   "source": [
    "fig, ax = plt.subplots()\n",
    "\n",
    "fig.set_size_inches((10,6))\n",
    "\n",
    "build_years.plot(kind=\"area\",stacked=True,color=colors,ax=ax,linewidth=0)\n",
    "ax.set_xlabel(\"year\")\n",
    "ax.set_ylabel(\"new capacity built [GW]\")\n",
    "\n",
    "fig.tight_layout()\n",
    "\n",
    "fig.savefig(\"{}-new_capacity.pdf\".format(scenario),transparent=True)"
   ]
  },
  {
   "cell_type": "markdown",
   "metadata": {},
   "source": [
    "Plotting the development of the costs of the technology over time:"
   ]
  },
  {
   "cell_type": "code",
   "execution_count": null,
   "metadata": {},
   "outputs": [],
   "source": [
    "costs = pd.DataFrame(0.,index=years,columns=techs)\n",
    "for year in years:\n",
    "    for tech in techs:\n",
    "        costs.at[year,tech] = model.fixed_costs[tech,year].value/8760. + parameters.at[\"marginal cost\",tech]"
   ]
  },
  {
   "cell_type": "code",
   "execution_count": null,
   "metadata": {
    "scrolled": true
   },
   "outputs": [],
   "source": [
    "fig, ax = plt.subplots()\n",
    "\n",
    "fig.set_size_inches((10,6))\n",
    "\n",
    "costs.plot(color=colors,ax=ax,linewidth=3)\n",
    "ax.set_xlabel(\"year\")\n",
    "ax.set_ylabel(\"LCOE [EUR/MWh]\")\n",
    "ax.set_ylim([0,160])\n",
    "\n",
    "\n",
    "fig.tight_layout()\n",
    "\n",
    "fig.savefig(\"{}-lcoe.pdf\".format(scenario),transparent=True)"
   ]
  },
  {
   "cell_type": "code",
   "execution_count": null,
   "metadata": {},
   "outputs": [],
   "source": []
  }
 ],
 "metadata": {
  "kernelspec": {
   "display_name": "learning_curve",
   "language": "python",
   "name": "learning_curve"
  },
  "language_info": {
   "codemirror_mode": {
    "name": "ipython",
    "version": 3
   },
   "file_extension": ".py",
   "mimetype": "text/x-python",
   "name": "python",
   "nbconvert_exporter": "python",
   "pygments_lexer": "ipython3",
   "version": "3.8.6"
  }
 },
 "nbformat": 4,
 "nbformat_minor": 2
}
